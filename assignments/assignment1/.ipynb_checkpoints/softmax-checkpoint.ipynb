{
 "cells": [
  {
   "cell_type": "code",
   "execution_count": null,
   "id": "161a3aa0",
   "metadata": {},
   "outputs": [],
   "source": [
    "# This mounts your Google Drive to the Colab VM.\n",
    "from google.colab import drive\n",
    "drive.mount('/content/drive')\n",
    "\n",
    "# TODO: Enter the foldername in your Drive where you have saved the unzipped\n",
    "# assignment folder, e.g. 'cs231n/assignments/assignment1/'\n",
    "FOLDERNAME = None\n",
    "assert FOLDERNAME is not None, \"[!] Enter the foldername.\"\n",
    "\n",
    "# Now that we've mounted your Drive, this ensures that\n",
    "# the Python interpreter of the Colab VM can load\n",
    "# python files from within it.\n",
    "import sys\n",
    "sys.path.append('/content/drive/My Drive/{}'.format(FOLDERNAME))\n",
    "\n",
    "# This downloads the CIFAR-10 dataset to your Drive\n",
    "# if it doesn't already exist.\n",
    "%cd /content/drive/My\\ Drive/$FOLDERNAME/cs231n/datasets/\n",
    "!bash get_datasets.sh\n",
    "%cd /content/drive/My\\ Drive/$FOLDERNAME"
   ]
  },
  {
   "cell_type": "markdown",
   "id": "26fdca1c",
   "metadata": {
    "tags": [
     "pdf-title"
    ]
   },
   "source": [
    "# Softmax exercise\n",
    "\n",
    "*Complete and hand in this completed worksheet (including its outputs and any supporting code outside of the worksheet) with your assignment submission. For more details see the [assignments page](http://vision.stanford.edu/teaching/cs231n/assignments.html) on the course website.*\n",
    "\n",
    "This exercise is analogous to the SVM exercise. You will:\n",
    "\n",
    "- implement a fully-vectorized **loss function** for the Softmax classifier\n",
    "- implement the fully-vectorized expression for its **analytic gradient**\n",
    "- **check your implementation** with numerical gradient\n",
    "- use a validation set to **tune the learning rate and regularization** strength\n",
    "- **optimize** the loss function with **SGD**\n",
    "- **visualize** the final learned weights\n"
   ]
  },
  {
   "cell_type": "code",
   "execution_count": 2,
   "id": "1f12280f",
   "metadata": {
    "tags": [
     "pdf-ignore"
    ]
   },
   "outputs": [],
   "source": [
    "import random\n",
    "import numpy as np\n",
    "from cs231n.data_utils import load_CIFAR10\n",
    "import matplotlib.pyplot as plt\n",
    "\n",
    "%matplotlib inline\n",
    "plt.rcParams['figure.figsize'] = (10.0, 8.0) # set default size of plots\n",
    "plt.rcParams['image.interpolation'] = 'nearest'\n",
    "plt.rcParams['image.cmap'] = 'gray'\n",
    "\n",
    "# for auto-reloading extenrnal modules\n",
    "# see http://stackoverflow.com/questions/1907993/autoreload-of-modules-in-ipython\n",
    "%load_ext autoreload\n",
    "%autoreload 2"
   ]
  },
  {
   "cell_type": "code",
   "execution_count": 3,
   "id": "ab106c82",
   "metadata": {
    "tags": [
     "pdf-ignore"
    ]
   },
   "outputs": [
    {
     "name": "stdout",
     "output_type": "stream",
     "text": [
      "Train data shape:  (49000, 3073)\n",
      "Train labels shape:  (49000,)\n",
      "Validation data shape:  (1000, 3073)\n",
      "Validation labels shape:  (1000,)\n",
      "Test data shape:  (1000, 3073)\n",
      "Test labels shape:  (1000,)\n",
      "dev data shape:  (500, 3073)\n",
      "dev labels shape:  (500,)\n"
     ]
    }
   ],
   "source": [
    "def get_CIFAR10_data(num_training=49000, num_validation=1000, num_test=1000, num_dev=500):\n",
    "    \"\"\"\n",
    "    Load the CIFAR-10 dataset from disk and perform preprocessing to prepare\n",
    "    it for the linear classifier. These are the same steps as we used for the\n",
    "    SVM, but condensed to a single function.  \n",
    "    \"\"\"\n",
    "    # Load the raw CIFAR-10 data\n",
    "    cifar10_dir = 'cs231n/datasets/cifar-10-batches-py'\n",
    "    \n",
    "    # Cleaning up variables to prevent loading data multiple times (which may cause memory issue)\n",
    "    try:\n",
    "       del X_train, y_train\n",
    "       del X_test, y_test\n",
    "       print('Clear previously loaded data.')\n",
    "    except:\n",
    "       pass\n",
    "\n",
    "    X_train, y_train, X_test, y_test = load_CIFAR10(cifar10_dir)\n",
    "    \n",
    "    # subsample the data\n",
    "    mask = list(range(num_training, num_training + num_validation))\n",
    "    X_val = X_train[mask]\n",
    "    y_val = y_train[mask]\n",
    "    mask = list(range(num_training))\n",
    "    X_train = X_train[mask]\n",
    "    y_train = y_train[mask]\n",
    "    mask = list(range(num_test))\n",
    "    X_test = X_test[mask]\n",
    "    y_test = y_test[mask]\n",
    "    mask = np.random.choice(num_training, num_dev, replace=False)\n",
    "    X_dev = X_train[mask]\n",
    "    y_dev = y_train[mask]\n",
    "    \n",
    "    # Preprocessing: reshape the image data into rows\n",
    "    X_train = np.reshape(X_train, (X_train.shape[0], -1))\n",
    "    X_val = np.reshape(X_val, (X_val.shape[0], -1))\n",
    "    X_test = np.reshape(X_test, (X_test.shape[0], -1))\n",
    "    X_dev = np.reshape(X_dev, (X_dev.shape[0], -1))\n",
    "    \n",
    "    # Normalize the data: subtract the mean image\n",
    "    mean_image = np.mean(X_train, axis = 0)\n",
    "    X_train -= mean_image\n",
    "    X_val -= mean_image\n",
    "    X_test -= mean_image\n",
    "    X_dev -= mean_image\n",
    "    \n",
    "    # add bias dimension and transform into columns\n",
    "    X_train = np.hstack([X_train, np.ones((X_train.shape[0], 1))])\n",
    "    X_val = np.hstack([X_val, np.ones((X_val.shape[0], 1))])\n",
    "    X_test = np.hstack([X_test, np.ones((X_test.shape[0], 1))])\n",
    "    X_dev = np.hstack([X_dev, np.ones((X_dev.shape[0], 1))])\n",
    "    \n",
    "    return X_train, y_train, X_val, y_val, X_test, y_test, X_dev, y_dev\n",
    "\n",
    "\n",
    "# Invoke the above function to get our data.\n",
    "X_train, y_train, X_val, y_val, X_test, y_test, X_dev, y_dev = get_CIFAR10_data()\n",
    "print('Train data shape: ', X_train.shape)\n",
    "print('Train labels shape: ', y_train.shape)\n",
    "print('Validation data shape: ', X_val.shape)\n",
    "print('Validation labels shape: ', y_val.shape)\n",
    "print('Test data shape: ', X_test.shape)\n",
    "print('Test labels shape: ', y_test.shape)\n",
    "print('dev data shape: ', X_dev.shape)\n",
    "print('dev labels shape: ', y_dev.shape)"
   ]
  },
  {
   "cell_type": "markdown",
   "id": "4721c3cb",
   "metadata": {},
   "source": [
    "## Softmax Classifier\n",
    "\n",
    "Your code for this section will all be written inside `cs231n/classifiers/softmax.py`.\n"
   ]
  },
  {
   "cell_type": "code",
   "execution_count": 7,
   "id": "d42765cd",
   "metadata": {},
   "outputs": [
    {
     "name": "stdout",
     "output_type": "stream",
     "text": [
      "loss: 2.362101\n",
      "sanity check: 2.302585\n"
     ]
    }
   ],
   "source": [
    "# First implement the naive softmax loss function with nested loops.\n",
    "# Open the file cs231n/classifiers/softmax.py and implement the\n",
    "# softmax_loss_naive function.\n",
    "\n",
    "from cs231n.classifiers.softmax import softmax_loss_naive\n",
    "import time\n",
    "\n",
    "# Generate a random softmax weight matrix and use it to compute the loss.\n",
    "W = np.random.randn(3073, 10) * 0.0001\n",
    "loss, grad = softmax_loss_naive(W, X_dev, y_dev, 0.0)\n",
    "\n",
    "# As a rough sanity check, our loss should be something close to -log(0.1).\n",
    "print('loss: %f' % loss)\n",
    "print('sanity check: %f' % (-np.log(0.1)))"
   ]
  },
  {
   "cell_type": "markdown",
   "id": "6f88764e",
   "metadata": {
    "tags": [
     "pdf-inline"
    ]
   },
   "source": [
    "**Inline Question 1**\n",
    "\n",
    "Why do we expect our loss to be close to -log(0.1)? Explain briefly.**\n",
    "\n",
    "$\\color{blue}{\\textit Your Answer:}$ \n",
    "因为W初始化时都相等，则P(Y=yi|X=xi)=1/C(num_class),而本数据集类的个数为10，所以P = 1/10 = 0.1\n"
   ]
  },
  {
   "cell_type": "code",
   "execution_count": 8,
   "id": "4c2626ef",
   "metadata": {},
   "outputs": [
    {
     "name": "stdout",
     "output_type": "stream",
     "text": [
      "numerical: 1.249847 analytic: 1.249847, relative error: 1.293182e-08\n",
      "numerical: -0.060451 analytic: -0.060451, relative error: 3.053694e-07\n",
      "numerical: 0.109838 analytic: 0.109838, relative error: 8.453687e-09\n",
      "numerical: -0.979631 analytic: -0.979631, relative error: 1.955865e-08\n",
      "numerical: 1.689916 analytic: 1.689916, relative error: 2.252773e-08\n",
      "numerical: 4.961824 analytic: 4.961823, relative error: 7.433291e-09\n",
      "numerical: 3.976616 analytic: 3.976616, relative error: 1.375165e-08\n",
      "numerical: 0.507906 analytic: 0.507906, relative error: 5.739344e-08\n",
      "numerical: 0.184064 analytic: 0.184064, relative error: 7.777625e-08\n",
      "numerical: -0.702686 analytic: -0.702685, relative error: 4.072869e-08\n",
      "numerical: 1.442004 analytic: 1.442004, relative error: 3.180197e-08\n",
      "numerical: 0.025230 analytic: 0.025230, relative error: 7.316130e-07\n",
      "numerical: -3.085202 analytic: -3.085202, relative error: 5.011734e-09\n",
      "numerical: 0.352747 analytic: 0.352747, relative error: 3.919813e-08\n",
      "numerical: 0.203305 analytic: 0.203305, relative error: 2.034566e-07\n",
      "numerical: 0.778541 analytic: 0.778541, relative error: 1.407998e-08\n",
      "numerical: 0.040955 analytic: 0.040955, relative error: 9.893813e-07\n",
      "numerical: -2.114040 analytic: -2.114040, relative error: 9.893406e-09\n",
      "numerical: 0.009816 analytic: 0.009816, relative error: 2.848875e-07\n",
      "numerical: -0.412896 analytic: -0.412896, relative error: 4.465568e-10\n"
     ]
    }
   ],
   "source": [
    "# Complete the implementation of softmax_loss_naive and implement a (naive)\n",
    "# version of the gradient that uses nested loops.\n",
    "loss, grad = softmax_loss_naive(W, X_dev, y_dev, 0.0)\n",
    "\n",
    "# As we did for the SVM, use numeric gradient checking as a debugging tool.\n",
    "# The numeric gradient should be close to the analytic gradient.\n",
    "from cs231n.gradient_check import grad_check_sparse\n",
    "f = lambda w: softmax_loss_naive(w, X_dev, y_dev, 0.0)[0]\n",
    "grad_numerical = grad_check_sparse(f, W, grad, 10)\n",
    "\n",
    "# similar to SVM case, do another gradient check with regularization\n",
    "loss, grad = softmax_loss_naive(W, X_dev, y_dev, 5e1)\n",
    "f = lambda w: softmax_loss_naive(w, X_dev, y_dev, 5e1)[0]\n",
    "grad_numerical = grad_check_sparse(f, W, grad, 10)"
   ]
  },
  {
   "cell_type": "code",
   "execution_count": 10,
   "id": "434e757f",
   "metadata": {},
   "outputs": [
    {
     "name": "stdout",
     "output_type": "stream",
     "text": [
      "naive loss: 2.362101e+00 computed in 0.080890s\n",
      "vectorized loss: 2.362101e+00 computed in 0.007006s\n",
      "Loss difference: 0.000000\n",
      "Gradient difference: 0.000000\n"
     ]
    }
   ],
   "source": [
    "# Now that we have a naive implementation of the softmax loss function and its gradient,\n",
    "# implement a vectorized version in softmax_loss_vectorized.\n",
    "# The two versions should compute the same results, but the vectorized version should be\n",
    "# much faster.\n",
    "tic = time.time()\n",
    "loss_naive, grad_naive = softmax_loss_naive(W, X_dev, y_dev, 0.000005)\n",
    "toc = time.time()\n",
    "print('naive loss: %e computed in %fs' % (loss_naive, toc - tic))\n",
    "\n",
    "from cs231n.classifiers.softmax import softmax_loss_vectorized\n",
    "tic = time.time()\n",
    "loss_vectorized, grad_vectorized = softmax_loss_vectorized(W, X_dev, y_dev, 0.000005)\n",
    "toc = time.time()\n",
    "print('vectorized loss: %e computed in %fs' % (loss_vectorized, toc - tic))\n",
    "\n",
    "# As we did for the SVM, we use the Frobenius norm to compare the two versions\n",
    "# of the gradient.\n",
    "grad_difference = np.linalg.norm(grad_naive - grad_vectorized, ord='fro')\n",
    "print('Loss difference: %f' % np.abs(loss_naive - loss_vectorized))\n",
    "print('Gradient difference: %f' % grad_difference)"
   ]
  },
  {
   "cell_type": "code",
   "execution_count": 11,
   "id": "2e5e374d",
   "metadata": {
    "tags": [
     "code"
    ],
    "test": "tuning"
   },
   "outputs": [
    {
     "name": "stdout",
     "output_type": "stream",
     "text": [
      "lr 1.000000e-10 reg 5.000000e+02 train accuracy: 0.103510 val accuracy: 0.093000\n",
      "lr 1.000000e-10 reg 5.000000e+03 train accuracy: 0.088408 val accuracy: 0.094000\n",
      "lr 1.000000e-10 reg 1.000000e+04 train accuracy: 0.094000 val accuracy: 0.075000\n",
      "lr 1.000000e-10 reg 2.500000e+04 train accuracy: 0.125082 val accuracy: 0.128000\n",
      "lr 1.000000e-10 reg 5.000000e+04 train accuracy: 0.081633 val accuracy: 0.073000\n",
      "lr 1.000000e-10 reg 1.000000e+05 train accuracy: 0.115122 val accuracy: 0.116000\n",
      "lr 1.000000e-10 reg 3.000000e+05 train accuracy: 0.088857 val accuracy: 0.094000\n",
      "lr 1.000000e-10 reg 5.000000e+05 train accuracy: 0.122980 val accuracy: 0.134000\n",
      "lr 1.000000e-10 reg 1.000000e+06 train accuracy: 0.110449 val accuracy: 0.129000\n",
      "lr 1.000000e-10 reg 3.000000e+06 train accuracy: 0.237184 val accuracy: 0.242000\n",
      "lr 3.000000e-10 reg 5.000000e+02 train accuracy: 0.139408 val accuracy: 0.137000\n",
      "lr 3.000000e-10 reg 5.000000e+03 train accuracy: 0.096837 val accuracy: 0.093000\n",
      "lr 3.000000e-10 reg 1.000000e+04 train accuracy: 0.124367 val accuracy: 0.130000\n",
      "lr 3.000000e-10 reg 2.500000e+04 train accuracy: 0.123347 val accuracy: 0.125000\n",
      "lr 3.000000e-10 reg 5.000000e+04 train accuracy: 0.113327 val accuracy: 0.121000\n",
      "lr 3.000000e-10 reg 1.000000e+05 train accuracy: 0.119694 val accuracy: 0.133000\n",
      "lr 3.000000e-10 reg 3.000000e+05 train accuracy: 0.134184 val accuracy: 0.133000\n",
      "lr 3.000000e-10 reg 5.000000e+05 train accuracy: 0.194837 val accuracy: 0.190000\n",
      "lr 3.000000e-10 reg 1.000000e+06 train accuracy: 0.247816 val accuracy: 0.272000\n",
      "lr 3.000000e-10 reg 3.000000e+06 train accuracy: 0.248041 val accuracy: 0.262000\n",
      "lr 1.000000e-09 reg 5.000000e+02 train accuracy: 0.127959 val accuracy: 0.126000\n",
      "lr 1.000000e-09 reg 5.000000e+03 train accuracy: 0.156735 val accuracy: 0.135000\n",
      "lr 1.000000e-09 reg 1.000000e+04 train accuracy: 0.130429 val accuracy: 0.140000\n",
      "lr 1.000000e-09 reg 2.500000e+04 train accuracy: 0.172510 val accuracy: 0.192000\n",
      "lr 1.000000e-09 reg 5.000000e+04 train accuracy: 0.162265 val accuracy: 0.184000\n",
      "lr 1.000000e-09 reg 1.000000e+05 train accuracy: 0.197694 val accuracy: 0.203000\n",
      "lr 1.000000e-09 reg 3.000000e+05 train accuracy: 0.263286 val accuracy: 0.274000\n",
      "lr 1.000000e-09 reg 5.000000e+05 train accuracy: 0.255327 val accuracy: 0.269000\n",
      "lr 1.000000e-09 reg 1.000000e+06 train accuracy: 0.248061 val accuracy: 0.265000\n",
      "lr 1.000000e-09 reg 3.000000e+06 train accuracy: 0.243673 val accuracy: 0.247000\n",
      "lr 3.000000e-09 reg 5.000000e+02 train accuracy: 0.169061 val accuracy: 0.164000\n",
      "lr 3.000000e-09 reg 5.000000e+03 train accuracy: 0.179796 val accuracy: 0.181000\n",
      "lr 3.000000e-09 reg 1.000000e+04 train accuracy: 0.196857 val accuracy: 0.166000\n",
      "lr 3.000000e-09 reg 2.500000e+04 train accuracy: 0.244449 val accuracy: 0.253000\n",
      "lr 3.000000e-09 reg 5.000000e+04 train accuracy: 0.291918 val accuracy: 0.312000\n",
      "lr 3.000000e-09 reg 1.000000e+05 train accuracy: 0.289980 val accuracy: 0.303000\n",
      "lr 3.000000e-09 reg 3.000000e+05 train accuracy: 0.261714 val accuracy: 0.275000\n",
      "lr 3.000000e-09 reg 5.000000e+05 train accuracy: 0.256204 val accuracy: 0.267000\n",
      "lr 3.000000e-09 reg 1.000000e+06 train accuracy: 0.258286 val accuracy: 0.258000\n",
      "lr 3.000000e-09 reg 3.000000e+06 train accuracy: 0.259980 val accuracy: 0.271000\n",
      "lr 1.000000e-08 reg 5.000000e+02 train accuracy: 0.235224 val accuracy: 0.242000\n",
      "lr 1.000000e-08 reg 5.000000e+03 train accuracy: 0.283755 val accuracy: 0.287000\n",
      "lr 1.000000e-08 reg 1.000000e+04 train accuracy: 0.336653 val accuracy: 0.340000\n",
      "lr 1.000000e-08 reg 2.500000e+04 train accuracy: 0.321102 val accuracy: 0.336000\n",
      "lr 1.000000e-08 reg 5.000000e+04 train accuracy: 0.296000 val accuracy: 0.313000\n",
      "lr 1.000000e-08 reg 1.000000e+05 train accuracy: 0.291224 val accuracy: 0.302000\n",
      "lr 1.000000e-08 reg 3.000000e+05 train accuracy: 0.257224 val accuracy: 0.277000\n",
      "lr 1.000000e-08 reg 5.000000e+05 train accuracy: 0.251020 val accuracy: 0.266000\n",
      "lr 1.000000e-08 reg 1.000000e+06 train accuracy: 0.267612 val accuracy: 0.260000\n",
      "lr 1.000000e-08 reg 3.000000e+06 train accuracy: 0.213204 val accuracy: 0.232000\n",
      "lr 5.000000e-08 reg 5.000000e+02 train accuracy: 0.330959 val accuracy: 0.327000\n",
      "lr 5.000000e-08 reg 5.000000e+03 train accuracy: 0.367959 val accuracy: 0.374000\n",
      "lr 5.000000e-08 reg 1.000000e+04 train accuracy: 0.354531 val accuracy: 0.377000\n",
      "lr 5.000000e-08 reg 2.500000e+04 train accuracy: 0.333653 val accuracy: 0.340000\n",
      "lr 5.000000e-08 reg 5.000000e+04 train accuracy: 0.301776 val accuracy: 0.314000\n",
      "lr 5.000000e-08 reg 1.000000e+05 train accuracy: 0.281673 val accuracy: 0.307000\n",
      "lr 5.000000e-08 reg 3.000000e+05 train accuracy: 0.255490 val accuracy: 0.272000\n",
      "lr 5.000000e-08 reg 5.000000e+05 train accuracy: 0.273265 val accuracy: 0.273000\n",
      "lr 5.000000e-08 reg 1.000000e+06 train accuracy: 0.236837 val accuracy: 0.235000\n",
      "lr 5.000000e-08 reg 3.000000e+06 train accuracy: 0.175020 val accuracy: 0.177000\n",
      "lr 1.000000e-07 reg 5.000000e+02 train accuracy: 0.384245 val accuracy: 0.392000\n",
      "lr 1.000000e-07 reg 5.000000e+03 train accuracy: 0.367816 val accuracy: 0.378000\n",
      "lr 1.000000e-07 reg 1.000000e+04 train accuracy: 0.353061 val accuracy: 0.362000\n",
      "lr 1.000000e-07 reg 2.500000e+04 train accuracy: 0.333286 val accuracy: 0.340000\n",
      "lr 1.000000e-07 reg 5.000000e+04 train accuracy: 0.281184 val accuracy: 0.272000\n",
      "lr 1.000000e-07 reg 1.000000e+05 train accuracy: 0.280286 val accuracy: 0.286000\n",
      "lr 1.000000e-07 reg 3.000000e+05 train accuracy: 0.238694 val accuracy: 0.242000\n",
      "lr 1.000000e-07 reg 5.000000e+05 train accuracy: 0.226612 val accuracy: 0.239000\n",
      "lr 1.000000e-07 reg 1.000000e+06 train accuracy: 0.227837 val accuracy: 0.234000\n",
      "lr 1.000000e-07 reg 3.000000e+06 train accuracy: 0.196776 val accuracy: 0.199000\n",
      "lr 2.000000e-07 reg 5.000000e+02 train accuracy: 0.400143 val accuracy: 0.394000\n",
      "lr 2.000000e-07 reg 5.000000e+03 train accuracy: 0.365918 val accuracy: 0.372000\n",
      "lr 2.000000e-07 reg 1.000000e+04 train accuracy: 0.337388 val accuracy: 0.354000\n",
      "lr 2.000000e-07 reg 2.500000e+04 train accuracy: 0.316510 val accuracy: 0.321000\n",
      "lr 2.000000e-07 reg 5.000000e+04 train accuracy: 0.290490 val accuracy: 0.296000\n",
      "lr 2.000000e-07 reg 1.000000e+05 train accuracy: 0.260959 val accuracy: 0.278000\n",
      "lr 2.000000e-07 reg 3.000000e+05 train accuracy: 0.205163 val accuracy: 0.203000\n",
      "lr 2.000000e-07 reg 5.000000e+05 train accuracy: 0.224449 val accuracy: 0.221000\n",
      "lr 2.000000e-07 reg 1.000000e+06 train accuracy: 0.207673 val accuracy: 0.204000\n",
      "lr 2.000000e-07 reg 3.000000e+06 train accuracy: 0.178653 val accuracy: 0.149000\n",
      "lr 5.000000e-07 reg 5.000000e+02 train accuracy: 0.387918 val accuracy: 0.371000\n",
      "lr 5.000000e-07 reg 5.000000e+03 train accuracy: 0.350449 val accuracy: 0.369000\n",
      "lr 5.000000e-07 reg 1.000000e+04 train accuracy: 0.324245 val accuracy: 0.349000\n",
      "lr 5.000000e-07 reg 2.500000e+04 train accuracy: 0.307429 val accuracy: 0.327000\n",
      "lr 5.000000e-07 reg 5.000000e+04 train accuracy: 0.270510 val accuracy: 0.257000\n",
      "lr 5.000000e-07 reg 1.000000e+05 train accuracy: 0.231980 val accuracy: 0.224000\n",
      "lr 5.000000e-07 reg 3.000000e+05 train accuracy: 0.196429 val accuracy: 0.181000\n",
      "lr 5.000000e-07 reg 5.000000e+05 train accuracy: 0.193755 val accuracy: 0.193000\n",
      "lr 5.000000e-07 reg 1.000000e+06 train accuracy: 0.171143 val accuracy: 0.174000\n",
      "lr 5.000000e-07 reg 3.000000e+06 train accuracy: 0.108204 val accuracy: 0.119000\n",
      "best validation accuracy achieved during cross-validation: 0.394000\n"
     ]
    }
   ],
   "source": [
    "# Use the validation set to tune hyperparameters (regularization strength and\n",
    "# learning rate). You should experiment with different ranges for the learning\n",
    "# rates and regularization strengths; if you are careful you should be able to\n",
    "# get a classification accuracy of over 0.35 on the validation set.\n",
    "\n",
    "from cs231n.classifiers import Softmax\n",
    "results = {}\n",
    "best_val = -1\n",
    "best_softmax = None\n",
    "\n",
    "################################################################################\n",
    "# TODO:                                                                        #\n",
    "# Use the validation set to set the learning rate and regularization strength. #\n",
    "# This should be identical to the validation that you did for the SVM; save    #\n",
    "# the best trained softmax classifer in best_softmax.                          #\n",
    "################################################################################\n",
    "\n",
    "# Provided as a reference. You may or may not want to change these hyperparameters\n",
    "learning_rates = [1e-10, 3e-10, 1e-9, 3e-9, 1e-8, 5e-8, 1e-7, 2e-7, 5e-7]\n",
    "regularization_strengths = [5e2, 5e3, 1e4, 2.5e4, 5e4, 1e5 , 3e5, 5e5, 1e6, 3e6]\n",
    "\n",
    "# *****START OF YOUR CODE (DO NOT DELETE/MODIFY THIS LINE)*****\n",
    "\n",
    "for lr in learning_rates:\n",
    "    for reg in regularization_strengths:\n",
    "        softmax = Softmax()\n",
    "        loss_hist = softmax.train(X_train, y_train, learning_rate=lr, reg=reg,\n",
    "                      num_iters=1000, verbose=False)\n",
    "        y_train_pred = softmax.predict(X_train)\n",
    "        tr_acc = np.mean(y_train == y_train_pred)\n",
    "        y_val_pred = softmax.predict(X_val)\n",
    "        val_acc = np.mean(y_val == y_val_pred)\n",
    "        results[(lr,reg)] = (tr_acc,val_acc)\n",
    "        print('lr %e reg %e train accuracy: %f val accuracy: %f' % (\n",
    "                lr, reg, tr_acc, val_acc))\n",
    "        if val_acc > best_val:\n",
    "            best_val = val_acc\n",
    "            best_softmax = softmax\n",
    "\n",
    "# *****END OF YOUR CODE (DO NOT DELETE/MODIFY THIS LINE)*****\n",
    "    \n",
    "# Print out results.\n",
    "# for lr, reg in sorted(results):\n",
    "#     train_accuracy, val_accuracy = results[(lr, reg)]\n",
    "#     print('lr %e reg %e train accuracy: %f val accuracy: %f' % (\n",
    "#                 lr, reg, train_accuracy, val_accuracy))\n",
    "    \n",
    "print('best validation accuracy achieved during cross-validation: %f' % best_val)"
   ]
  },
  {
   "cell_type": "code",
   "execution_count": 12,
   "id": "deb37cc6",
   "metadata": {
    "test": "test"
   },
   "outputs": [
    {
     "name": "stdout",
     "output_type": "stream",
     "text": [
      "softmax on raw pixels final test set accuracy: 0.379000\n"
     ]
    }
   ],
   "source": [
    "# evaluate on test set\n",
    "# Evaluate the best softmax on test set\n",
    "y_test_pred = best_softmax.predict(X_test)\n",
    "test_accuracy = np.mean(y_test == y_test_pred)\n",
    "print('softmax on raw pixels final test set accuracy: %f' % (test_accuracy, ))"
   ]
  },
  {
   "cell_type": "markdown",
   "id": "df501314",
   "metadata": {
    "tags": [
     "pdf-inline"
    ]
   },
   "source": [
    "**Inline Question 2** - *True or False*\n",
    "\n",
    "Suppose the overall training loss is defined as the sum of the per-datapoint loss over all training examples. It is possible to add a new datapoint to a training set that would leave the SVM loss unchanged, but this is not the case with the Softmax classifier loss.\n",
    "\n",
    "$\\color{blue}{\\textit Your Answer:}$\n",
    "\n",
    "True\n",
    "\n",
    "$\\color{blue}{\\textit Your Explanation:}$\n",
    "\n",
    "因为SVM的loss函数中，只要非正确的标签的值与正确的标签额值相差一定程度，就不会对loss函数有贡献，但是在softmax中，这个值的变化会是的正确标签值得相对值产生变化，分母变大会是的当前得P变小而使得loss函数变大\n"
   ]
  },
  {
   "cell_type": "code",
   "execution_count": 13,
   "id": "ade33adc",
   "metadata": {},
   "outputs": [
    {
     "data": {
      "image/png": "[encoded data removed]",
      "text/plain": [
       "<Figure size 720x576 with 10 Axes>"
      ]
     },
     "metadata": {
      "needs_background": "light"
     },
     "output_type": "display_data"
    }
   ],
   "source": [
    "# Visualize the learned weights for each class\n",
    "w = best_softmax.W[:-1,:] # strip out the bias\n",
    "w = w.reshape(32, 32, 3, 10)\n",
    "\n",
    "w_min, w_max = np.min(w), np.max(w)\n",
    "\n",
    "classes = ['plane', 'car', 'bird', 'cat', 'deer', 'dog', 'frog', 'horse', 'ship', 'truck']\n",
    "for i in range(10):\n",
    "    plt.subplot(2, 5, i + 1)\n",
    "    \n",
    "    # Rescale the weights to be between 0 and 255\n",
    "    wimg = 255.0 * (w[:, :, :, i].squeeze() - w_min) / (w_max - w_min)\n",
    "    plt.imshow(wimg.astype('uint8'))\n",
    "    plt.axis('off')\n",
    "    plt.title(classes[i])"
   ]
  }
 ],
 "metadata": {
  "kernelspec": {
   "display_name": "Python 3 (ipykernel)",
   "language": "python",
   "name": "python3"
  },
  "language_info": {
   "codemirror_mode": {
    "name": "ipython",
    "version": 3
   },
   "file_extension": ".py",
   "mimetype": "text/x-python",
   "name": "python",
   "nbconvert_exporter": "python",
   "pygments_lexer": "ipython3",
   "version": "3.10.2"
  }
 },
 "nbformat": 4,
 "nbformat_minor": 5
}
